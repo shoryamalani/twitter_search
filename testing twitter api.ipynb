{
 "cells": [
  {
   "cell_type": "code",
   "execution_count": null,
   "id": "e5f5ab0d",
   "metadata": {},
   "outputs": [],
   "source": [
    "import tweepy\n",
    "import constants\n",
    "from User import User\n",
    "from datetime import datetime\n",
    "import requests"
   ]
  },
  {
   "cell_type": "code",
   "execution_count": null,
   "id": "ce1a0c10",
   "metadata": {},
   "outputs": [],
   "source": [
    "oauth2_user_handler = tweepy.OAuth2UserHandler(\n",
    "    client_id=constants.CLIENT_ID,\n",
    "    redirect_uri=constants.CALLBACK_URL,\n",
    "    scope=[\"tweet.read\", \"users.read\", \"like.read\",'offline.access'],\n",
    "    client_secret=constants.CLIENT_SECRET)\n"
   ]
  },
  {
   "cell_type": "code",
   "execution_count": 5,
   "id": "6f73f2b7",
   "metadata": {},
   "outputs": [
    {
     "name": "stdout",
     "output_type": "stream",
     "text": [
      "('1462978826942619649', 'shoryamalani', 'UW9pTmo0Z1pwNVBvZUZMbzNaT0ozS0lyRUpRVHZEVF9COTBrajVaMXFzNHJWOjE2NTc2ODk2NjI3Njc6MToxOmFjOjE', datetime.datetime(2022, 7, 9, 1, 21, 13), 0, 3, 0, 0, 1, 'QWgxeXVKYmZPN0l4M01xVmFzUXFsUHpHSXVEbENCSkk0eHMxVzc1NkxnQ0tJOjE2NTc2ODk2NzMxMjY6MToxOmF0OjE', 'VUZCOGIxbHJINldHYW1XcHZFLVlLVU03Q3dneVdubGVwMThVUTJ3aHZ5blhlOjE2NTc2ODk2NzMxMjY6MToxOnJ0OjE', False, '', '', 'https://pbs.twimg.com/profile_images/1546611635581661184/TL0mdlb6_normal.jpg', datetime.datetime(2021, 11, 22, 21, 58, 35), datetime.datetime(2022, 7, 13, 1, 21, 13), False, {'tweets_posted': [], 'tweets_liked': []}, '1657696873.157706')\n"
     ]
    },
    {
     "ename": "InsecureTransportError",
     "evalue": "(insecure_transport) OAuth 2 MUST utilize https.",
     "output_type": "error",
     "traceback": [
      "\u001b[0;31m---------------------------------------------------------------------------\u001b[0m",
      "\u001b[0;31mInsecureTransportError\u001b[0m                    Traceback (most recent call last)",
      "\u001b[0;32m<ipython-input-5-4dda772c4d2f>\u001b[0m in \u001b[0;36m<module>\u001b[0;34m\u001b[0m\n\u001b[1;32m      1\u001b[0m \u001b[0mshorya_user\u001b[0m \u001b[0;34m=\u001b[0m \u001b[0mUser\u001b[0m\u001b[0;34m.\u001b[0m\u001b[0mget\u001b[0m\u001b[0;34m(\u001b[0m\u001b[0;34m\"1462978826942619649\"\u001b[0m\u001b[0;34m)\u001b[0m\u001b[0;34m\u001b[0m\u001b[0;34m\u001b[0m\u001b[0m\n\u001b[0;32m----> 2\u001b[0;31m \u001b[0mshorya_user\u001b[0m\u001b[0;34m.\u001b[0m\u001b[0mrefresh_valid_token\u001b[0m\u001b[0;34m(\u001b[0m\u001b[0;34m)\u001b[0m\u001b[0;34m\u001b[0m\u001b[0;34m\u001b[0m\u001b[0m\n\u001b[0m",
      "\u001b[0;32m~/twitter_search/User.py\u001b[0m in \u001b[0;36mrefresh_valid_token\u001b[0;34m(self)\u001b[0m\n\u001b[1;32m     25\u001b[0m     \u001b[0;32mdef\u001b[0m \u001b[0mrefresh_valid_token\u001b[0m\u001b[0;34m(\u001b[0m\u001b[0mself\u001b[0m\u001b[0;34m)\u001b[0m\u001b[0;34m:\u001b[0m\u001b[0;34m\u001b[0m\u001b[0;34m\u001b[0m\u001b[0m\n\u001b[1;32m     26\u001b[0m         \u001b[0;32mif\u001b[0m \u001b[0mself\u001b[0m\u001b[0;34m.\u001b[0m\u001b[0muser_data\u001b[0m \u001b[0;34m!=\u001b[0m \u001b[0;32mNone\u001b[0m\u001b[0;34m:\u001b[0m\u001b[0;34m\u001b[0m\u001b[0;34m\u001b[0m\u001b[0m\n\u001b[0;32m---> 27\u001b[0;31m             \u001b[0mtokens\u001b[0m \u001b[0;34m=\u001b[0m \u001b[0mtwitter_worker\u001b[0m\u001b[0;34m.\u001b[0m\u001b[0mrefresh_token\u001b[0m\u001b[0;34m(\u001b[0m\u001b[0mself\u001b[0m\u001b[0;34m)\u001b[0m\u001b[0;34m\u001b[0m\u001b[0;34m\u001b[0m\u001b[0m\n\u001b[0m\u001b[1;32m     28\u001b[0m             \u001b[0mdatabase_worker\u001b[0m\u001b[0;34m.\u001b[0m\u001b[0mupdate_tokens_in_db\u001b[0m\u001b[0;34m(\u001b[0m\u001b[0mtokens\u001b[0m\u001b[0;34m,\u001b[0m\u001b[0mself\u001b[0m\u001b[0;34m.\u001b[0m\u001b[0mid\u001b[0m\u001b[0;34m)\u001b[0m\u001b[0;34m\u001b[0m\u001b[0;34m\u001b[0m\u001b[0m\n\u001b[1;32m     29\u001b[0m             \u001b[0mself\u001b[0m\u001b[0;34m.\u001b[0m\u001b[0maccess_token\u001b[0m \u001b[0;34m=\u001b[0m \u001b[0mtokens\u001b[0m\u001b[0;34m[\u001b[0m\u001b[0;34m'access_token'\u001b[0m\u001b[0;34m]\u001b[0m\u001b[0;34m\u001b[0m\u001b[0;34m\u001b[0m\u001b[0m\n",
      "\u001b[0;32m~/twitter_search/twitter_worker.py\u001b[0m in \u001b[0;36mrefresh_token\u001b[0;34m(user)\u001b[0m\n\u001b[1;32m     14\u001b[0m \u001b[0;32mdef\u001b[0m \u001b[0mrefresh_token\u001b[0m\u001b[0;34m(\u001b[0m\u001b[0muser\u001b[0m\u001b[0;34m)\u001b[0m\u001b[0;34m:\u001b[0m\u001b[0;34m\u001b[0m\u001b[0;34m\u001b[0m\u001b[0m\n\u001b[1;32m     15\u001b[0m     \u001b[0;31m# client = tweepy.Client(user.access_token)\u001b[0m\u001b[0;34m\u001b[0m\u001b[0;34m\u001b[0m\u001b[0;34m\u001b[0m\u001b[0m\n\u001b[0;32m---> 16\u001b[0;31m     \u001b[0muser_tokens\u001b[0m \u001b[0;34m=\u001b[0m \u001b[0moauth2_user_handler\u001b[0m\u001b[0;34m.\u001b[0m\u001b[0mrefresh_token\u001b[0m\u001b[0;34m(\u001b[0m\u001b[0muser\u001b[0m\u001b[0;34m.\u001b[0m\u001b[0mrefresh_token\u001b[0m\u001b[0;34m)\u001b[0m\u001b[0;34m\u001b[0m\u001b[0;34m\u001b[0m\u001b[0m\n\u001b[0m\u001b[1;32m     17\u001b[0m     \u001b[0;32mreturn\u001b[0m \u001b[0muser_tokens\u001b[0m\u001b[0;34m\u001b[0m\u001b[0;34m\u001b[0m\u001b[0m\n",
      "\u001b[0;32m~/twitter_search/venv/lib/python3.6/site-packages/requests_oauthlib/oauth2_session.py\u001b[0m in \u001b[0;36mrefresh_token\u001b[0;34m(self, token_url, refresh_token, body, auth, timeout, headers, verify, proxies, **kwargs)\u001b[0m\n\u001b[1;32m    411\u001b[0m \u001b[0;34m\u001b[0m\u001b[0m\n\u001b[1;32m    412\u001b[0m         \u001b[0;32mif\u001b[0m \u001b[0;32mnot\u001b[0m \u001b[0mis_secure_transport\u001b[0m\u001b[0;34m(\u001b[0m\u001b[0mtoken_url\u001b[0m\u001b[0;34m)\u001b[0m\u001b[0;34m:\u001b[0m\u001b[0;34m\u001b[0m\u001b[0;34m\u001b[0m\u001b[0m\n\u001b[0;32m--> 413\u001b[0;31m             \u001b[0;32mraise\u001b[0m \u001b[0mInsecureTransportError\u001b[0m\u001b[0;34m(\u001b[0m\u001b[0;34m)\u001b[0m\u001b[0;34m\u001b[0m\u001b[0;34m\u001b[0m\u001b[0m\n\u001b[0m\u001b[1;32m    414\u001b[0m \u001b[0;34m\u001b[0m\u001b[0m\n\u001b[1;32m    415\u001b[0m         \u001b[0mrefresh_token\u001b[0m \u001b[0;34m=\u001b[0m \u001b[0mrefresh_token\u001b[0m \u001b[0;32mor\u001b[0m \u001b[0mself\u001b[0m\u001b[0;34m.\u001b[0m\u001b[0mtoken\u001b[0m\u001b[0;34m.\u001b[0m\u001b[0mget\u001b[0m\u001b[0;34m(\u001b[0m\u001b[0;34m\"refresh_token\"\u001b[0m\u001b[0;34m)\u001b[0m\u001b[0;34m\u001b[0m\u001b[0;34m\u001b[0m\u001b[0m\n",
      "\u001b[0;31mInsecureTransportError\u001b[0m: (insecure_transport) OAuth 2 MUST utilize https."
     ]
    }
   ],
   "source": [
    "shorya_user = User.get(\"1462978826942619649\")\n",
    "shorya_user.refresh_valid_token()"
   ]
  },
  {
   "cell_type": "code",
   "execution_count": null,
   "id": "11c5f9fa",
   "metadata": {},
   "outputs": [],
   "source": [
    "shorya_user.access_token"
   ]
  },
  {
   "cell_type": "code",
   "execution_count": null,
   "id": "bed4459b",
   "metadata": {},
   "outputs": [],
   "source": [
    "User.refresh_valid_token"
   ]
  },
  {
   "cell_type": "code",
   "execution_count": 6,
   "id": "2086321f",
   "metadata": {},
   "outputs": [
    {
     "ename": "InsecureTransportError",
     "evalue": "(insecure_transport) OAuth 2 MUST utilize https.",
     "output_type": "error",
     "traceback": [
      "\u001b[0;31m---------------------------------------------------------------------------\u001b[0m",
      "\u001b[0;31mInsecureTransportError\u001b[0m                    Traceback (most recent call last)",
      "\u001b[0;32m<ipython-input-6-3abbbf139643>\u001b[0m in \u001b[0;36m<module>\u001b[0;34m\u001b[0m\n\u001b[1;32m      1\u001b[0m \u001b[0mclient\u001b[0m \u001b[0;34m=\u001b[0m \u001b[0mtweepy\u001b[0m\u001b[0;34m.\u001b[0m\u001b[0mClient\u001b[0m\u001b[0;34m(\u001b[0m\u001b[0mshorya_user\u001b[0m\u001b[0;34m.\u001b[0m\u001b[0maccess_token\u001b[0m\u001b[0;34m,\u001b[0m\u001b[0mshorya_user\u001b[0m\u001b[0;34m.\u001b[0m\u001b[0muser_data\u001b[0m\u001b[0;34m[\u001b[0m\u001b[0;36m2\u001b[0m\u001b[0;34m]\u001b[0m\u001b[0;34m)\u001b[0m\u001b[0;34m\u001b[0m\u001b[0;34m\u001b[0m\u001b[0m\n\u001b[0;32m----> 2\u001b[0;31m \u001b[0moauth2_user_handler\u001b[0m\u001b[0;34m.\u001b[0m\u001b[0mrefresh_token\u001b[0m\u001b[0;34m(\u001b[0m\u001b[0mshorya_user\u001b[0m\u001b[0;34m.\u001b[0m\u001b[0mrefresh_token\u001b[0m\u001b[0;34m)\u001b[0m\u001b[0;34m\u001b[0m\u001b[0;34m\u001b[0m\u001b[0m\n\u001b[0m",
      "\u001b[0;32m~/twitter_search/venv/lib/python3.6/site-packages/requests_oauthlib/oauth2_session.py\u001b[0m in \u001b[0;36mrefresh_token\u001b[0;34m(self, token_url, refresh_token, body, auth, timeout, headers, verify, proxies, **kwargs)\u001b[0m\n\u001b[1;32m    411\u001b[0m \u001b[0;34m\u001b[0m\u001b[0m\n\u001b[1;32m    412\u001b[0m         \u001b[0;32mif\u001b[0m \u001b[0;32mnot\u001b[0m \u001b[0mis_secure_transport\u001b[0m\u001b[0;34m(\u001b[0m\u001b[0mtoken_url\u001b[0m\u001b[0;34m)\u001b[0m\u001b[0;34m:\u001b[0m\u001b[0;34m\u001b[0m\u001b[0;34m\u001b[0m\u001b[0m\n\u001b[0;32m--> 413\u001b[0;31m             \u001b[0;32mraise\u001b[0m \u001b[0mInsecureTransportError\u001b[0m\u001b[0;34m(\u001b[0m\u001b[0;34m)\u001b[0m\u001b[0;34m\u001b[0m\u001b[0;34m\u001b[0m\u001b[0m\n\u001b[0m\u001b[1;32m    414\u001b[0m \u001b[0;34m\u001b[0m\u001b[0m\n\u001b[1;32m    415\u001b[0m         \u001b[0mrefresh_token\u001b[0m \u001b[0;34m=\u001b[0m \u001b[0mrefresh_token\u001b[0m \u001b[0;32mor\u001b[0m \u001b[0mself\u001b[0m\u001b[0;34m.\u001b[0m\u001b[0mtoken\u001b[0m\u001b[0;34m.\u001b[0m\u001b[0mget\u001b[0m\u001b[0;34m(\u001b[0m\u001b[0;34m\"refresh_token\"\u001b[0m\u001b[0;34m)\u001b[0m\u001b[0;34m\u001b[0m\u001b[0;34m\u001b[0m\u001b[0m\n",
      "\u001b[0;31mInsecureTransportError\u001b[0m: (insecure_transport) OAuth 2 MUST utilize https."
     ]
    }
   ],
   "source": [
    "client = tweepy.Client(shorya_user.access_token,shorya_user.user_data[2])\n",
    "oauth2_user_handler.refresh_token(shorya_user.refresh_token)"
   ]
  },
  {
   "cell_type": "code",
   "execution_count": null,
   "id": "778de5fb",
   "metadata": {},
   "outputs": [],
   "source": [
    "client.get_liked_tweets(shorya_user.id,user_auth=False,tweet_fields=['id','created_at',\"public_metrics\"],user_fields=['id','username'])"
   ]
  },
  {
   "cell_type": "code",
   "execution_count": null,
   "id": "a64defa5",
   "metadata": {},
   "outputs": [],
   "source": [
    "client.get_me(user_auth=True, user_fields=[\n",
    "'created_at', 'description', 'id', 'name', 'public_metrics', 'url', 'verified', 'protected','profile_image_url'],tweet_fields=['public_metrics','author_id','non_public_metrics'])"
   ]
  },
  {
   "cell_type": "code",
   "execution_count": null,
   "id": "10c85ce6",
   "metadata": {},
   "outputs": [],
   "source": [
    "float(str(datetime.timestamp(datetime.now())))"
   ]
  },
  {
   "cell_type": "code",
   "execution_count": 17,
   "id": "b682735f",
   "metadata": {},
   "outputs": [],
   "source": [
    "def make_refresh_token_request(refresh_token):\n",
    "    url = f\"https://api.twitter.com/2/oauth2/token?refresh_token={refresh_token}&grant_type=refresh_token&client_id={constants.CLIENT_ID}\"\n",
    "    print(url)\n",
    "    payload={}\n",
    "    headers = {\n",
    "    'Content-Type': 'application/x-www-form-urlencoded',\n",
    "    }\n",
    "\n",
    "    response = requests.request(\"POST\", url, headers=headers, data=payload,auth=requests.auth.HTTPBasicAuth(constants.CLIENT_ID, constants.CLIENT_SECRET))\n",
    "\n",
    "    return response.json()"
   ]
  },
  {
   "cell_type": "code",
   "execution_count": 19,
   "id": "452284e1",
   "metadata": {},
   "outputs": [
    {
     "name": "stdout",
     "output_type": "stream",
     "text": [
      "https://api.twitter.com/2/oauth2/token?refresh_token=Y01FS1hPdzdtTlFSQ2pLbHJ4ZUNMakhXTU5kUEE1eVhxVDMwZGswNHpDQ2ZDOjE2NTc2OTQ1MzIxOTc6MTowOnJ0OjE&grant_type=refresh_token&client_id=Wk9LSnpIdnlFbzl3UDRRQXRFb0Q6MTpjaQ\n"
     ]
    },
    {
     "data": {
      "text/plain": [
       "{'token_type': 'bearer',\n",
       " 'expires_in': 7200,\n",
       " 'access_token': 'Tld4R3lyekNPM2dmZVJnaDJEVGRnajJ3TDdzazE5WnAyZkhGTFZsa0xZQmczOjE2NTc2OTQ1NDUyMzU6MTowOmF0OjE',\n",
       " 'scope': 'users.read like.read tweet.read offline.access',\n",
       " 'refresh_token': 'SFhDVjZzVUs5ekMwXzFUYjh1NjNieFRFZ3NxOW1mbnMyODk4NnlGclRLVkxIOjE2NTc2OTQ1NDUyMzU6MTowOnJ0OjE'}"
      ]
     },
     "execution_count": 19,
     "metadata": {},
     "output_type": "execute_result"
    }
   ],
   "source": [
    "make_refresh_token_request(\"Y01FS1hPdzdtTlFSQ2pLbHJ4ZUNMakhXTU5kUEE1eVhxVDMwZGswNHpDQ2ZDOjE2NTc2OTQ1MzIxOTc6MTowOnJ0OjE\")"
   ]
  },
  {
   "cell_type": "code",
   "execution_count": null,
   "id": "1ad32850",
   "metadata": {},
   "outputs": [],
   "source": []
  }
 ],
 "metadata": {
  "kernelspec": {
   "display_name": "Python 3",
   "language": "python",
   "name": "python3"
  },
  "language_info": {
   "codemirror_mode": {
    "name": "ipython",
    "version": 3
   },
   "file_extension": ".py",
   "mimetype": "text/x-python",
   "name": "python",
   "nbconvert_exporter": "python",
   "pygments_lexer": "ipython3",
   "version": "3.6.9"
  }
 },
 "nbformat": 4,
 "nbformat_minor": 5
}
